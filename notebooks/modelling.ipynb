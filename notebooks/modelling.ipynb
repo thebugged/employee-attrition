{
 "cells": [
  {
   "cell_type": "markdown",
   "id": "4a3eadd8",
   "metadata": {},
   "source": [
    "### **Import Libraries & Data Preprocessing**"
   ]
  },
  {
   "cell_type": "code",
   "execution_count": 1,
   "id": "2724e5c1",
   "metadata": {},
   "outputs": [],
   "source": [
    "import joblib\n",
    "import numpy as np\n",
    "import pandas as pd\n",
    "import xgboost as xgb\n",
    "import lightgbm as lgb\n",
    "import plotly.graph_objects as go\n",
    "from catboost import CatBoostClassifier\n",
    "from plotly.subplots import make_subplots\n",
    "from imblearn.over_sampling import SMOTE, ADASYN\n",
    "from imblearn.combine import SMOTETomek\n",
    "from collections import Counter\n",
    "\n",
    "\n",
    "from sklearn.ensemble import RandomForestClassifier\n",
    "from sklearn.preprocessing import LabelEncoder, StandardScaler\n",
    "from sklearn.model_selection import train_test_split, cross_val_score, GridSearchCV, StratifiedKFold\n",
    "from sklearn.metrics import (accuracy_score, precision_score, recall_score, f1_score, \n",
    "                           roc_auc_score, confusion_matrix, classification_report,\n",
    "                           precision_recall_curve, average_precision_score)"
   ]
  },
  {
   "cell_type": "code",
   "execution_count": 2,
   "id": "dfb17d9f",
   "metadata": {},
   "outputs": [],
   "source": [
    "import warnings\n",
    "warnings.filterwarnings('ignore')"
   ]
  },
  {
   "cell_type": "code",
   "execution_count": 3,
   "id": "8e54c003",
   "metadata": {},
   "outputs": [],
   "source": [
    "employee_df = pd.read_csv('data/WA_Fn-UseC_-HR-Employee-Attrition.csv')"
   ]
  },
  {
   "cell_type": "code",
   "execution_count": 4,
   "id": "868095b8",
   "metadata": {},
   "outputs": [],
   "source": [
    "# drop unnecessary columns\n",
    "columns_to_drop = ['EmployeeCount', 'StandardHours', 'Over18', 'EmployeeNumber']\n",
    "employee_df = employee_df.drop(columns=columns_to_drop, errors='ignore')"
   ]
  },
  {
   "cell_type": "code",
   "execution_count": 5,
   "id": "0213053a",
   "metadata": {},
   "outputs": [
    {
     "name": "stdout",
     "output_type": "stream",
     "text": [
      "Categorical columns: ['BusinessTravel', 'Department', 'EducationField', 'Gender', 'JobRole', 'MaritalStatus', 'OverTime']\n",
      "Numerical columns: 23 columns\n"
     ]
    }
   ],
   "source": [
    "# encode target variable\n",
    "employee_df['Attrition'] = employee_df['Attrition'].map({'Yes': 1, 'No': 0})\n",
    "\n",
    "# identify categorical and numerical columns\n",
    "categorical_cols = employee_df.select_dtypes(include=['object']).columns.tolist()\n",
    "numerical_cols = employee_df.select_dtypes(include=['int64', 'float64']).columns.tolist()\n",
    "numerical_cols.remove('Attrition')  # remove target from numerical\n",
    "\n",
    "print(f\"Categorical columns: {categorical_cols}\")\n",
    "print(f\"Numerical columns: {len(numerical_cols)} columns\")"
   ]
  },
  {
   "cell_type": "code",
   "execution_count": 6,
   "id": "fb69d708",
   "metadata": {},
   "outputs": [],
   "source": [
    "# encode categorical variables\n",
    "label_encoders = {}\n",
    "for col in categorical_cols:\n",
    "    le = LabelEncoder()\n",
    "    employee_df[col] = le.fit_transform(employee_df[col])\n",
    "    label_encoders[col] = le"
   ]
  },
  {
   "cell_type": "code",
   "execution_count": 7,
   "id": "82182f24",
   "metadata": {},
   "outputs": [],
   "source": [
    "# split features and target\n",
    "X = employee_df.drop('Attrition', axis=1)\n",
    "y = employee_df['Attrition']"
   ]
  },
  {
   "cell_type": "code",
   "execution_count": 8,
   "id": "fad9febe",
   "metadata": {},
   "outputs": [],
   "source": [
    "# split data\n",
    "X_train, X_test, y_train, y_test = train_test_split(\n",
    "    X, y, test_size=0.2, random_state=42, stratify=y\n",
    ")"
   ]
  },
  {
   "cell_type": "code",
   "execution_count": 9,
   "id": "7d3b7f4a",
   "metadata": {},
   "outputs": [
    {
     "name": "stdout",
     "output_type": "stream",
     "text": [
      "\n",
      "Original Training set size: (1176, 30)\n",
      "Original class distribution: Counter({0: 986, 1: 190})\n"
     ]
    }
   ],
   "source": [
    "print(f\"\\nOriginal Training set size: {X_train.shape}\")\n",
    "print(f\"Original class distribution: {Counter(y_train)}\")"
   ]
  },
  {
   "cell_type": "markdown",
   "id": "ce49eafa",
   "metadata": {},
   "source": [
    "Handling Class Imbalance"
   ]
  },
  {
   "cell_type": "code",
   "execution_count": 10,
   "id": "654842d4",
   "metadata": {},
   "outputs": [],
   "source": [
    "scaler = StandardScaler()\n",
    "X_train_scaled = scaler.fit_transform(X_train)\n",
    "X_test_scaled = scaler.transform(X_test)"
   ]
  },
  {
   "cell_type": "code",
   "execution_count": 11,
   "id": "0b47b860",
   "metadata": {},
   "outputs": [],
   "source": [
    "# can experiment different resampling strategies\n",
    "resampling_methods = {\n",
    "    'SMOTE': SMOTE(random_state=42, k_neighbors=5),\n",
    "    'ADASYN': ADASYN(random_state=42, n_neighbors=5),\n",
    "    'SMOTETomek': SMOTETomek(random_state=42)\n",
    "}"
   ]
  },
  {
   "cell_type": "code",
   "execution_count": 12,
   "id": "0e1d2701",
   "metadata": {},
   "outputs": [],
   "source": [
    "# we'll use SMOTE as default\n",
    "sampler = resampling_methods['SMOTE']\n",
    "X_train_balanced, y_train_balanced = sampler.fit_resample(X_train_scaled, y_train)"
   ]
  },
  {
   "cell_type": "code",
   "execution_count": 13,
   "id": "5877d44c",
   "metadata": {},
   "outputs": [
    {
     "name": "stdout",
     "output_type": "stream",
     "text": [
      "After SMOTE - Training set size: (1972, 30)\n",
      "After SMOTE - Class distribution: Counter({0: 986, 1: 986})\n"
     ]
    }
   ],
   "source": [
    "print(f\"After SMOTE - Training set size: {X_train_balanced.shape}\")\n",
    "print(f\"After SMOTE - Class distribution: {Counter(y_train_balanced)}\")"
   ]
  },
  {
   "cell_type": "code",
   "execution_count": 14,
   "id": "52188e86",
   "metadata": {},
   "outputs": [],
   "source": [
    "# also prepare unscaled balanced data for CatBoost\n",
    "X_train_balanced_unscaled, y_train_balanced_unscaled = SMOTE(random_state=42).fit_resample(X_train, y_train)"
   ]
  },
  {
   "cell_type": "markdown",
   "id": "931f1c7b",
   "metadata": {},
   "source": [
    "<br/>"
   ]
  },
  {
   "cell_type": "markdown",
   "id": "30c715b6",
   "metadata": {},
   "source": [
    "### **Model Training**"
   ]
  },
  {
   "cell_type": "code",
   "execution_count": 15,
   "id": "63a6f8de",
   "metadata": {},
   "outputs": [],
   "source": [
    "results = {}"
   ]
  },
  {
   "cell_type": "markdown",
   "id": "194dad7d",
   "metadata": {},
   "source": [
    "XGBoost"
   ]
  },
  {
   "cell_type": "code",
   "execution_count": 16,
   "id": "719176c9",
   "metadata": {},
   "outputs": [],
   "source": [
    "xgb_params = {\n",
    "    'max_depth': [3, 5, 7],\n",
    "    'learning_rate': [0.01, 0.1, 0.3],\n",
    "    'n_estimators': [100, 200, 300],\n",
    "    'subsample': [0.8, 1.0],\n",
    "    'colsample_bytree': [0.8, 1.0]\n",
    "}"
   ]
  },
  {
   "cell_type": "code",
   "execution_count": 17,
   "id": "881cbb6b",
   "metadata": {},
   "outputs": [],
   "source": [
    "xgb_model = xgb.XGBClassifier(random_state=42, eval_metric='logloss')\n",
    "\n",
    "xgb_grid = GridSearchCV(\n",
    "    xgb_model, \n",
    "    {'max_depth': [5, 7], 'learning_rate': [0.1, 0.3], 'n_estimators': [100, 200]},\n",
    "    cv=5, \n",
    "    scoring='f1',\n",
    "    n_jobs=-1,\n",
    "    verbose=0\n",
    ")"
   ]
  },
  {
   "cell_type": "code",
   "execution_count": 18,
   "id": "80d62d8d",
   "metadata": {},
   "outputs": [],
   "source": [
    "xgb_grid.fit(X_train_balanced, y_train_balanced)\n",
    "xgb_best = xgb_grid.best_estimator_"
   ]
  },
  {
   "cell_type": "code",
   "execution_count": 19,
   "id": "31d6c9bc",
   "metadata": {},
   "outputs": [],
   "source": [
    "# predictions\n",
    "xgb_pred = xgb_best.predict(X_test_scaled)\n",
    "xgb_pred_proba = xgb_best.predict_proba(X_test_scaled)[:, 1]"
   ]
  },
  {
   "cell_type": "code",
   "execution_count": 20,
   "id": "c4c5324a",
   "metadata": {},
   "outputs": [
    {
     "name": "stdout",
     "output_type": "stream",
     "text": [
      "XGBoost Best Parameters: {'learning_rate': 0.1, 'max_depth': 7, 'n_estimators': 100}\n",
      "XGBoost F1 Score: 0.3889\n"
     ]
    }
   ],
   "source": [
    "# store results\n",
    "results['XGBoost'] = {\n",
    "    'accuracy': accuracy_score(y_test, xgb_pred),\n",
    "    'precision': precision_score(y_test, xgb_pred),\n",
    "    'recall': recall_score(y_test, xgb_pred),\n",
    "    'f1': f1_score(y_test, xgb_pred),\n",
    "    'roc_auc': roc_auc_score(y_test, xgb_pred_proba),\n",
    "    'predictions': xgb_pred,\n",
    "    'probabilities': xgb_pred_proba,\n",
    "    'model': xgb_best\n",
    "}\n",
    "\n",
    "print(f\"XGBoost Best Parameters: {xgb_grid.best_params_}\")\n",
    "print(f\"XGBoost F1 Score: {results['XGBoost']['f1']:.4f}\")"
   ]
  },
  {
   "cell_type": "markdown",
   "id": "f5133ad0",
   "metadata": {},
   "source": [
    "LightGBM"
   ]
  },
  {
   "cell_type": "code",
   "execution_count": 21,
   "id": "7cef1557",
   "metadata": {},
   "outputs": [],
   "source": [
    "lgb_params = {\n",
    "    'num_leaves': [31, 50],\n",
    "    'learning_rate': [0.1, 0.3],\n",
    "    'n_estimators': [100, 200],\n",
    "    'min_child_samples': [20, 30]\n",
    "}"
   ]
  },
  {
   "cell_type": "code",
   "execution_count": 22,
   "id": "c62c7861",
   "metadata": {},
   "outputs": [],
   "source": [
    "lgb_model = lgb.LGBMClassifier(random_state=42, verbose=-1)\n",
    "\n",
    "lgb_grid = GridSearchCV(\n",
    "    lgb_model,\n",
    "    lgb_params,\n",
    "    cv=5,\n",
    "    scoring='f1',\n",
    "    n_jobs=-1,\n",
    "    verbose=0\n",
    ")"
   ]
  },
  {
   "cell_type": "code",
   "execution_count": 23,
   "id": "6cf48f46",
   "metadata": {},
   "outputs": [],
   "source": [
    "lgb_grid.fit(X_train_balanced, y_train_balanced)\n",
    "lgb_best = lgb_grid.best_estimator_"
   ]
  },
  {
   "cell_type": "code",
   "execution_count": 24,
   "id": "09856f11",
   "metadata": {},
   "outputs": [],
   "source": [
    "# predictions\n",
    "lgb_pred = lgb_best.predict(X_test_scaled)\n",
    "lgb_pred_proba = lgb_best.predict_proba(X_test_scaled)[:, 1]"
   ]
  },
  {
   "cell_type": "code",
   "execution_count": 25,
   "id": "b2a8e883",
   "metadata": {},
   "outputs": [
    {
     "name": "stdout",
     "output_type": "stream",
     "text": [
      "LightGBM Best Parameters: {'learning_rate': 0.1, 'min_child_samples': 20, 'n_estimators': 100, 'num_leaves': 50}\n",
      "LightGBM F1 Score: 0.3125\n"
     ]
    }
   ],
   "source": [
    "# store results\n",
    "results['LightGBM'] = {\n",
    "    'accuracy': accuracy_score(y_test, lgb_pred),\n",
    "    'precision': precision_score(y_test, lgb_pred),\n",
    "    'recall': recall_score(y_test, lgb_pred),\n",
    "    'f1': f1_score(y_test, lgb_pred),\n",
    "    'roc_auc': roc_auc_score(y_test, lgb_pred_proba),\n",
    "    'predictions': lgb_pred,\n",
    "    'probabilities': lgb_pred_proba,\n",
    "    'model': lgb_best\n",
    "}\n",
    "\n",
    "print(f\"LightGBM Best Parameters: {lgb_grid.best_params_}\")\n",
    "print(f\"LightGBM F1 Score: {results['LightGBM']['f1']:.4f}\")"
   ]
  },
  {
   "cell_type": "markdown",
   "id": "b49fd1c6",
   "metadata": {},
   "source": [
    "CatBoost"
   ]
  },
  {
   "cell_type": "code",
   "execution_count": 26,
   "id": "feffe688",
   "metadata": {},
   "outputs": [
    {
     "data": {
      "text/plain": [
       "<catboost.core.CatBoostClassifier at 0x1584572e0>"
      ]
     },
     "execution_count": 26,
     "metadata": {},
     "output_type": "execute_result"
    }
   ],
   "source": [
    "cat_features = [i for i, col in enumerate(X.columns) if col in categorical_cols]\n",
    "\n",
    "catboost_model = CatBoostClassifier(\n",
    "    iterations=200,\n",
    "    learning_rate=0.1,\n",
    "    depth=6,\n",
    "    loss_function='Logloss',\n",
    "    eval_metric='F1',\n",
    "    random_seed=42,\n",
    "    verbose=False\n",
    ")\n",
    "\n",
    "catboost_model.fit(\n",
    "    X_train_balanced_unscaled, y_train_balanced_unscaled,\n",
    "    eval_set=(X_test, y_test),\n",
    "    early_stopping_rounds=50,\n",
    "    verbose=False\n",
    ")"
   ]
  },
  {
   "cell_type": "code",
   "execution_count": 27,
   "id": "8c0423de",
   "metadata": {},
   "outputs": [],
   "source": [
    "# predictions\n",
    "cat_pred = catboost_model.predict(X_test)\n",
    "cat_pred_proba = catboost_model.predict_proba(X_test)[:, 1]"
   ]
  },
  {
   "cell_type": "code",
   "execution_count": 28,
   "id": "9f0e7d78",
   "metadata": {},
   "outputs": [],
   "source": [
    "results['CatBoost'] = {\n",
    "    'accuracy': accuracy_score(y_test, cat_pred),\n",
    "    'precision': precision_score(y_test, cat_pred),\n",
    "    'recall': recall_score(y_test, cat_pred),\n",
    "    'f1': f1_score(y_test, cat_pred),\n",
    "    'roc_auc': roc_auc_score(y_test, cat_pred_proba),\n",
    "    'predictions': cat_pred,\n",
    "    'probabilities': cat_pred_proba,\n",
    "    'model': catboost_model\n",
    "}"
   ]
  },
  {
   "cell_type": "code",
   "execution_count": 29,
   "id": "20709402",
   "metadata": {},
   "outputs": [
    {
     "name": "stdout",
     "output_type": "stream",
     "text": [
      "CatBoost F1 Score: 0.4522\n"
     ]
    }
   ],
   "source": [
    "print(f\"CatBoost F1 Score: {results['CatBoost']['f1']:.4f}\")"
   ]
  },
  {
   "cell_type": "markdown",
   "id": "3f77dc61",
   "metadata": {},
   "source": [
    "Random Forest"
   ]
  },
  {
   "cell_type": "code",
   "execution_count": 30,
   "id": "f65ede90",
   "metadata": {},
   "outputs": [],
   "source": [
    "rf_params = {\n",
    "    'n_estimators': [100, 200],\n",
    "    'max_depth': [10, 20, None],\n",
    "    'min_samples_split': [2, 5],\n",
    "    'min_samples_leaf': [1, 2]\n",
    "}"
   ]
  },
  {
   "cell_type": "code",
   "execution_count": 31,
   "id": "510d2625",
   "metadata": {},
   "outputs": [],
   "source": [
    "rf_model = RandomForestClassifier(random_state=42, n_jobs=-1)\n",
    "\n",
    "rf_grid = GridSearchCV(\n",
    "    rf_model,\n",
    "    {'n_estimators': [100, 200], 'max_depth': [10, 20], 'min_samples_split': [2, 5]},\n",
    "    cv=5,\n",
    "    scoring='f1',\n",
    "    n_jobs=-1,\n",
    "    verbose=0\n",
    ")"
   ]
  },
  {
   "cell_type": "code",
   "execution_count": 32,
   "id": "1412b86f",
   "metadata": {},
   "outputs": [],
   "source": [
    "rf_grid.fit(X_train_balanced, y_train_balanced)\n",
    "rf_best = rf_grid.best_estimator_"
   ]
  },
  {
   "cell_type": "code",
   "execution_count": 33,
   "id": "211c2d0c",
   "metadata": {},
   "outputs": [],
   "source": [
    "# predictions\n",
    "rf_pred = rf_best.predict(X_test_scaled)\n",
    "rf_pred_proba = rf_best.predict_proba(X_test_scaled)[:, 1]"
   ]
  },
  {
   "cell_type": "code",
   "execution_count": 34,
   "id": "bdb729ba",
   "metadata": {},
   "outputs": [
    {
     "name": "stdout",
     "output_type": "stream",
     "text": [
      "Random Forest Best Parameters: {'max_depth': 20, 'min_samples_split': 2, 'n_estimators': 200}\n",
      "Random Forest F1 Score: 0.3768\n"
     ]
    }
   ],
   "source": [
    "results['RandomForest'] = {\n",
    "    'accuracy': accuracy_score(y_test, rf_pred),\n",
    "    'precision': precision_score(y_test, rf_pred),\n",
    "    'recall': recall_score(y_test, rf_pred),\n",
    "    'f1': f1_score(y_test, rf_pred),\n",
    "    'roc_auc': roc_auc_score(y_test, rf_pred_proba),\n",
    "    'predictions': rf_pred,\n",
    "    'probabilities': rf_pred_proba,\n",
    "    'model': rf_best\n",
    "}\n",
    "\n",
    "print(f\"Random Forest Best Parameters: {rf_grid.best_params_}\")\n",
    "print(f\"Random Forest F1 Score: {results['RandomForest']['f1']:.4f}\")"
   ]
  },
  {
   "cell_type": "markdown",
   "id": "d2f5f75e",
   "metadata": {},
   "source": [
    "<br/>"
   ]
  },
  {
   "cell_type": "markdown",
   "id": "c582cc14",
   "metadata": {},
   "source": [
    "### **Model Comparison**"
   ]
  },
  {
   "cell_type": "code",
   "execution_count": 35,
   "id": "48224348",
   "metadata": {},
   "outputs": [],
   "source": [
    "# create comparison dataframe\n",
    "comparison_df = pd.DataFrame({\n",
    "    model: {\n",
    "        'Accuracy': results[model]['accuracy'],\n",
    "        'Precision': results[model]['precision'],\n",
    "        'Recall': results[model]['recall'],\n",
    "        'F1-Score': results[model]['f1'],\n",
    "        'ROC-AUC': results[model]['roc_auc']\n",
    "    }\n",
    "    for model in results.keys()\n",
    "}).T"
   ]
  },
  {
   "cell_type": "code",
   "execution_count": 36,
   "id": "a2aa0ab5",
   "metadata": {},
   "outputs": [
    {
     "name": "stdout",
     "output_type": "stream",
     "text": [
      "\n",
      "Model Performance Metrics:\n",
      "              Accuracy  Precision  Recall  F1-Score  ROC-AUC\n",
      "XGBoost         0.8503     0.5600  0.2979    0.3889   0.8080\n",
      "LightGBM        0.8503     0.5882  0.2128    0.3125   0.7940\n",
      "CatBoost        0.7857     0.3824  0.5532    0.4522   0.7317\n",
      "RandomForest    0.8537     0.5909  0.2766    0.3768   0.8054\n"
     ]
    }
   ],
   "source": [
    "print(\"\\nModel Performance Metrics:\")\n",
    "print(comparison_df.round(4))"
   ]
  },
  {
   "cell_type": "code",
   "execution_count": 37,
   "id": "60b88eb3",
   "metadata": {},
   "outputs": [
    {
     "name": "stdout",
     "output_type": "stream",
     "text": [
      "\n",
      " Best Model (by F1-Score): CatBoost\n",
      "   F1-Score: 0.4522\n"
     ]
    }
   ],
   "source": [
    "best_model_name = comparison_df['F1-Score'].idxmax()\n",
    "print(f\"\\n Best Model (by F1-Score): {best_model_name}\")\n",
    "print(f\"   F1-Score: {comparison_df.loc[best_model_name, 'F1-Score']:.4f}\")"
   ]
  },
  {
   "cell_type": "markdown",
   "id": "3ae81f63",
   "metadata": {},
   "source": [
    "Performance Comparison Bar Chart"
   ]
  },
  {
   "cell_type": "code",
   "execution_count": 38,
   "id": "5d9ae00f",
   "metadata": {},
   "outputs": [
    {
     "data": {
      "application/vnd.plotly.v1+json": {
       "config": {
        "plotlyServerURL": "https://plot.ly"
       },
       "data": [
        {
         "marker": {
          "color": "#3873E5"
         },
         "name": "XGBoost",
         "text": [
          0.85,
          0.56,
          0.298,
          0.389,
          0.808
         ],
         "textposition": "outside",
         "type": "bar",
         "x": [
          "Accuracy",
          "Precision",
          "Recall",
          "F1-Score",
          "ROC-AUC"
         ],
         "y": [
          0.8503401360544217,
          0.56,
          0.2978723404255319,
          0.3888888888888889,
          0.8079937979154105
         ]
        },
        {
         "marker": {
          "color": "#00cc44"
         },
         "name": "LightGBM",
         "text": [
          0.85,
          0.588,
          0.213,
          0.312,
          0.794
         ],
         "textposition": "outside",
         "type": "bar",
         "x": [
          "Accuracy",
          "Precision",
          "Recall",
          "F1-Score",
          "ROC-AUC"
         ],
         "y": [
          0.8503401360544217,
          0.5882352941176471,
          0.2127659574468085,
          0.3125,
          0.793952967525196
         ]
        },
        {
         "marker": {
          "color": "#ffaa00"
         },
         "name": "CatBoost",
         "text": [
          0.786,
          0.382,
          0.553,
          0.452,
          0.732
         ],
         "textposition": "outside",
         "type": "bar",
         "x": [
          "Accuracy",
          "Precision",
          "Recall",
          "F1-Score",
          "ROC-AUC"
         ],
         "y": [
          0.7857142857142857,
          0.38235294117647056,
          0.5531914893617021,
          0.45217391304347826,
          0.731673701438539
         ]
        },
        {
         "marker": {
          "color": "#ff1e0e"
         },
         "name": "RandomForest",
         "text": [
          0.854,
          0.591,
          0.277,
          0.377,
          0.805
         ],
         "textposition": "outside",
         "type": "bar",
         "x": [
          "Accuracy",
          "Precision",
          "Recall",
          "F1-Score",
          "ROC-AUC"
         ],
         "y": [
          0.8537414965986394,
          0.5909090909090909,
          0.2765957446808511,
          0.37681159420289856,
          0.8053665259712293
         ]
        }
       ],
       "layout": {
        "barmode": "group",
        "height": 500,
        "template": {
         "data": {
          "bar": [
           {
            "error_x": {
             "color": "#2a3f5f"
            },
            "error_y": {
             "color": "#2a3f5f"
            },
            "marker": {
             "line": {
              "color": "#E5ECF6",
              "width": 0.5
             },
             "pattern": {
              "fillmode": "overlay",
              "size": 10,
              "solidity": 0.2
             }
            },
            "type": "bar"
           }
          ],
          "barpolar": [
           {
            "marker": {
             "line": {
              "color": "#E5ECF6",
              "width": 0.5
             },
             "pattern": {
              "fillmode": "overlay",
              "size": 10,
              "solidity": 0.2
             }
            },
            "type": "barpolar"
           }
          ],
          "carpet": [
           {
            "aaxis": {
             "endlinecolor": "#2a3f5f",
             "gridcolor": "white",
             "linecolor": "white",
             "minorgridcolor": "white",
             "startlinecolor": "#2a3f5f"
            },
            "baxis": {
             "endlinecolor": "#2a3f5f",
             "gridcolor": "white",
             "linecolor": "white",
             "minorgridcolor": "white",
             "startlinecolor": "#2a3f5f"
            },
            "type": "carpet"
           }
          ],
          "choropleth": [
           {
            "colorbar": {
             "outlinewidth": 0,
             "ticks": ""
            },
            "type": "choropleth"
           }
          ],
          "contour": [
           {
            "colorbar": {
             "outlinewidth": 0,
             "ticks": ""
            },
            "colorscale": [
             [
              0,
              "#0d0887"
             ],
             [
              0.1111111111111111,
              "#46039f"
             ],
             [
              0.2222222222222222,
              "#7201a8"
             ],
             [
              0.3333333333333333,
              "#9c179e"
             ],
             [
              0.4444444444444444,
              "#bd3786"
             ],
             [
              0.5555555555555556,
              "#d8576b"
             ],
             [
              0.6666666666666666,
              "#ed7953"
             ],
             [
              0.7777777777777778,
              "#fb9f3a"
             ],
             [
              0.8888888888888888,
              "#fdca26"
             ],
             [
              1,
              "#f0f921"
             ]
            ],
            "type": "contour"
           }
          ],
          "contourcarpet": [
           {
            "colorbar": {
             "outlinewidth": 0,
             "ticks": ""
            },
            "type": "contourcarpet"
           }
          ],
          "heatmap": [
           {
            "colorbar": {
             "outlinewidth": 0,
             "ticks": ""
            },
            "colorscale": [
             [
              0,
              "#0d0887"
             ],
             [
              0.1111111111111111,
              "#46039f"
             ],
             [
              0.2222222222222222,
              "#7201a8"
             ],
             [
              0.3333333333333333,
              "#9c179e"
             ],
             [
              0.4444444444444444,
              "#bd3786"
             ],
             [
              0.5555555555555556,
              "#d8576b"
             ],
             [
              0.6666666666666666,
              "#ed7953"
             ],
             [
              0.7777777777777778,
              "#fb9f3a"
             ],
             [
              0.8888888888888888,
              "#fdca26"
             ],
             [
              1,
              "#f0f921"
             ]
            ],
            "type": "heatmap"
           }
          ],
          "heatmapgl": [
           {
            "colorbar": {
             "outlinewidth": 0,
             "ticks": ""
            },
            "colorscale": [
             [
              0,
              "#0d0887"
             ],
             [
              0.1111111111111111,
              "#46039f"
             ],
             [
              0.2222222222222222,
              "#7201a8"
             ],
             [
              0.3333333333333333,
              "#9c179e"
             ],
             [
              0.4444444444444444,
              "#bd3786"
             ],
             [
              0.5555555555555556,
              "#d8576b"
             ],
             [
              0.6666666666666666,
              "#ed7953"
             ],
             [
              0.7777777777777778,
              "#fb9f3a"
             ],
             [
              0.8888888888888888,
              "#fdca26"
             ],
             [
              1,
              "#f0f921"
             ]
            ],
            "type": "heatmapgl"
           }
          ],
          "histogram": [
           {
            "marker": {
             "pattern": {
              "fillmode": "overlay",
              "size": 10,
              "solidity": 0.2
             }
            },
            "type": "histogram"
           }
          ],
          "histogram2d": [
           {
            "colorbar": {
             "outlinewidth": 0,
             "ticks": ""
            },
            "colorscale": [
             [
              0,
              "#0d0887"
             ],
             [
              0.1111111111111111,
              "#46039f"
             ],
             [
              0.2222222222222222,
              "#7201a8"
             ],
             [
              0.3333333333333333,
              "#9c179e"
             ],
             [
              0.4444444444444444,
              "#bd3786"
             ],
             [
              0.5555555555555556,
              "#d8576b"
             ],
             [
              0.6666666666666666,
              "#ed7953"
             ],
             [
              0.7777777777777778,
              "#fb9f3a"
             ],
             [
              0.8888888888888888,
              "#fdca26"
             ],
             [
              1,
              "#f0f921"
             ]
            ],
            "type": "histogram2d"
           }
          ],
          "histogram2dcontour": [
           {
            "colorbar": {
             "outlinewidth": 0,
             "ticks": ""
            },
            "colorscale": [
             [
              0,
              "#0d0887"
             ],
             [
              0.1111111111111111,
              "#46039f"
             ],
             [
              0.2222222222222222,
              "#7201a8"
             ],
             [
              0.3333333333333333,
              "#9c179e"
             ],
             [
              0.4444444444444444,
              "#bd3786"
             ],
             [
              0.5555555555555556,
              "#d8576b"
             ],
             [
              0.6666666666666666,
              "#ed7953"
             ],
             [
              0.7777777777777778,
              "#fb9f3a"
             ],
             [
              0.8888888888888888,
              "#fdca26"
             ],
             [
              1,
              "#f0f921"
             ]
            ],
            "type": "histogram2dcontour"
           }
          ],
          "mesh3d": [
           {
            "colorbar": {
             "outlinewidth": 0,
             "ticks": ""
            },
            "type": "mesh3d"
           }
          ],
          "parcoords": [
           {
            "line": {
             "colorbar": {
              "outlinewidth": 0,
              "ticks": ""
             }
            },
            "type": "parcoords"
           }
          ],
          "pie": [
           {
            "automargin": true,
            "type": "pie"
           }
          ],
          "scatter": [
           {
            "fillpattern": {
             "fillmode": "overlay",
             "size": 10,
             "solidity": 0.2
            },
            "type": "scatter"
           }
          ],
          "scatter3d": [
           {
            "line": {
             "colorbar": {
              "outlinewidth": 0,
              "ticks": ""
             }
            },
            "marker": {
             "colorbar": {
              "outlinewidth": 0,
              "ticks": ""
             }
            },
            "type": "scatter3d"
           }
          ],
          "scattercarpet": [
           {
            "marker": {
             "colorbar": {
              "outlinewidth": 0,
              "ticks": ""
             }
            },
            "type": "scattercarpet"
           }
          ],
          "scattergeo": [
           {
            "marker": {
             "colorbar": {
              "outlinewidth": 0,
              "ticks": ""
             }
            },
            "type": "scattergeo"
           }
          ],
          "scattergl": [
           {
            "marker": {
             "colorbar": {
              "outlinewidth": 0,
              "ticks": ""
             }
            },
            "type": "scattergl"
           }
          ],
          "scattermapbox": [
           {
            "marker": {
             "colorbar": {
              "outlinewidth": 0,
              "ticks": ""
             }
            },
            "type": "scattermapbox"
           }
          ],
          "scatterpolar": [
           {
            "marker": {
             "colorbar": {
              "outlinewidth": 0,
              "ticks": ""
             }
            },
            "type": "scatterpolar"
           }
          ],
          "scatterpolargl": [
           {
            "marker": {
             "colorbar": {
              "outlinewidth": 0,
              "ticks": ""
             }
            },
            "type": "scatterpolargl"
           }
          ],
          "scatterternary": [
           {
            "marker": {
             "colorbar": {
              "outlinewidth": 0,
              "ticks": ""
             }
            },
            "type": "scatterternary"
           }
          ],
          "surface": [
           {
            "colorbar": {
             "outlinewidth": 0,
             "ticks": ""
            },
            "colorscale": [
             [
              0,
              "#0d0887"
             ],
             [
              0.1111111111111111,
              "#46039f"
             ],
             [
              0.2222222222222222,
              "#7201a8"
             ],
             [
              0.3333333333333333,
              "#9c179e"
             ],
             [
              0.4444444444444444,
              "#bd3786"
             ],
             [
              0.5555555555555556,
              "#d8576b"
             ],
             [
              0.6666666666666666,
              "#ed7953"
             ],
             [
              0.7777777777777778,
              "#fb9f3a"
             ],
             [
              0.8888888888888888,
              "#fdca26"
             ],
             [
              1,
              "#f0f921"
             ]
            ],
            "type": "surface"
           }
          ],
          "table": [
           {
            "cells": {
             "fill": {
              "color": "#EBF0F8"
             },
             "line": {
              "color": "white"
             }
            },
            "header": {
             "fill": {
              "color": "#C8D4E3"
             },
             "line": {
              "color": "white"
             }
            },
            "type": "table"
           }
          ]
         },
         "layout": {
          "annotationdefaults": {
           "arrowcolor": "#2a3f5f",
           "arrowhead": 0,
           "arrowwidth": 1
          },
          "autotypenumbers": "strict",
          "coloraxis": {
           "colorbar": {
            "outlinewidth": 0,
            "ticks": ""
           }
          },
          "colorscale": {
           "diverging": [
            [
             0,
             "#8e0152"
            ],
            [
             0.1,
             "#c51b7d"
            ],
            [
             0.2,
             "#de77ae"
            ],
            [
             0.3,
             "#f1b6da"
            ],
            [
             0.4,
             "#fde0ef"
            ],
            [
             0.5,
             "#f7f7f7"
            ],
            [
             0.6,
             "#e6f5d0"
            ],
            [
             0.7,
             "#b8e186"
            ],
            [
             0.8,
             "#7fbc41"
            ],
            [
             0.9,
             "#4d9221"
            ],
            [
             1,
             "#276419"
            ]
           ],
           "sequential": [
            [
             0,
             "#0d0887"
            ],
            [
             0.1111111111111111,
             "#46039f"
            ],
            [
             0.2222222222222222,
             "#7201a8"
            ],
            [
             0.3333333333333333,
             "#9c179e"
            ],
            [
             0.4444444444444444,
             "#bd3786"
            ],
            [
             0.5555555555555556,
             "#d8576b"
            ],
            [
             0.6666666666666666,
             "#ed7953"
            ],
            [
             0.7777777777777778,
             "#fb9f3a"
            ],
            [
             0.8888888888888888,
             "#fdca26"
            ],
            [
             1,
             "#f0f921"
            ]
           ],
           "sequentialminus": [
            [
             0,
             "#0d0887"
            ],
            [
             0.1111111111111111,
             "#46039f"
            ],
            [
             0.2222222222222222,
             "#7201a8"
            ],
            [
             0.3333333333333333,
             "#9c179e"
            ],
            [
             0.4444444444444444,
             "#bd3786"
            ],
            [
             0.5555555555555556,
             "#d8576b"
            ],
            [
             0.6666666666666666,
             "#ed7953"
            ],
            [
             0.7777777777777778,
             "#fb9f3a"
            ],
            [
             0.8888888888888888,
             "#fdca26"
            ],
            [
             1,
             "#f0f921"
            ]
           ]
          },
          "colorway": [
           "#636efa",
           "#EF553B",
           "#00cc96",
           "#ab63fa",
           "#FFA15A",
           "#19d3f3",
           "#FF6692",
           "#B6E880",
           "#FF97FF",
           "#FECB52"
          ],
          "font": {
           "color": "#2a3f5f"
          },
          "geo": {
           "bgcolor": "white",
           "lakecolor": "white",
           "landcolor": "#E5ECF6",
           "showlakes": true,
           "showland": true,
           "subunitcolor": "white"
          },
          "hoverlabel": {
           "align": "left"
          },
          "hovermode": "closest",
          "mapbox": {
           "style": "light"
          },
          "paper_bgcolor": "white",
          "plot_bgcolor": "#E5ECF6",
          "polar": {
           "angularaxis": {
            "gridcolor": "white",
            "linecolor": "white",
            "ticks": ""
           },
           "bgcolor": "#E5ECF6",
           "radialaxis": {
            "gridcolor": "white",
            "linecolor": "white",
            "ticks": ""
           }
          },
          "scene": {
           "xaxis": {
            "backgroundcolor": "#E5ECF6",
            "gridcolor": "white",
            "gridwidth": 2,
            "linecolor": "white",
            "showbackground": true,
            "ticks": "",
            "zerolinecolor": "white"
           },
           "yaxis": {
            "backgroundcolor": "#E5ECF6",
            "gridcolor": "white",
            "gridwidth": 2,
            "linecolor": "white",
            "showbackground": true,
            "ticks": "",
            "zerolinecolor": "white"
           },
           "zaxis": {
            "backgroundcolor": "#E5ECF6",
            "gridcolor": "white",
            "gridwidth": 2,
            "linecolor": "white",
            "showbackground": true,
            "ticks": "",
            "zerolinecolor": "white"
           }
          },
          "shapedefaults": {
           "line": {
            "color": "#2a3f5f"
           }
          },
          "ternary": {
           "aaxis": {
            "gridcolor": "white",
            "linecolor": "white",
            "ticks": ""
           },
           "baxis": {
            "gridcolor": "white",
            "linecolor": "white",
            "ticks": ""
           },
           "bgcolor": "#E5ECF6",
           "caxis": {
            "gridcolor": "white",
            "linecolor": "white",
            "ticks": ""
           }
          },
          "title": {
           "x": 0.05
          },
          "xaxis": {
           "automargin": true,
           "gridcolor": "white",
           "linecolor": "white",
           "ticks": "",
           "title": {
            "standoff": 15
           },
           "zerolinecolor": "white",
           "zerolinewidth": 2
          },
          "yaxis": {
           "automargin": true,
           "gridcolor": "white",
           "linecolor": "white",
           "ticks": "",
           "title": {
            "standoff": 15
           },
           "zerolinecolor": "white",
           "zerolinewidth": 2
          }
         }
        },
        "title": {
         "text": "Model Performance Comparison"
        },
        "xaxis": {
         "title": {
          "text": "Metrics"
         }
        },
        "yaxis": {
         "range": [
          0,
          1.1
         ],
         "title": {
          "text": "Score"
         }
        }
       }
      }
     },
     "metadata": {},
     "output_type": "display_data"
    }
   ],
   "source": [
    "fig = go.Figure()\n",
    "\n",
    "metrics = ['Accuracy', 'Precision', 'Recall', 'F1-Score', 'ROC-AUC']\n",
    "colors_list = ['#3873E5', '#00cc44', '#ffaa00', '#ff1e0e']\n",
    "\n",
    "for i, model in enumerate(comparison_df.index):\n",
    "    fig.add_trace(go.Bar(\n",
    "        name=model,\n",
    "        x=metrics,\n",
    "        y=comparison_df.loc[model].values,\n",
    "        marker_color=colors_list[i],\n",
    "        text=comparison_df.loc[model].round(3).values,\n",
    "        textposition='outside'\n",
    "    ))\n",
    "\n",
    "fig.update_layout(\n",
    "    title='Model Performance Comparison',\n",
    "    xaxis_title='Metrics',\n",
    "    yaxis_title='Score',\n",
    "    yaxis_range=[0, 1.1],\n",
    "    barmode='group',\n",
    "    height=500\n",
    ")\n",
    "fig.show()"
   ]
  },
  {
   "cell_type": "markdown",
   "id": "fc6fdfe4",
   "metadata": {},
   "source": [
    "<br/>"
   ]
  },
  {
   "cell_type": "markdown",
   "id": "ca73f582",
   "metadata": {},
   "source": [
    "### **Save**"
   ]
  },
  {
   "cell_type": "code",
   "execution_count": 39,
   "id": "45c0a535",
   "metadata": {},
   "outputs": [
    {
     "name": "stdout",
     "output_type": "stream",
     "text": [
      "\n",
      "Best Model: CatBoost\n",
      "Model saved successfully!\n"
     ]
    }
   ],
   "source": [
    "# check best model\n",
    "best_model_name = comparison_df['F1-Score'].idxmax()\n",
    "print(f\"\\nBest Model: {best_model_name}\")\n",
    "\n",
    "if best_model_name == 'CatBoost':\n",
    "    catboost_model.save_model('models/best_model_catboost.cbm')\n",
    "    model_metadata = {\n",
    "        'model_type': 'CatBoost',\n",
    "        'needs_scaling': False\n",
    "    }\n",
    "else:\n",
    "    # save XGBoost, LightGBM, or RandomForest\n",
    "    joblib.dump(results[best_model_name]['model'], f'models/best_model_{best_model_name.lower()}.pkl')\n",
    "    joblib.dump(scaler, 'models/scaler.pkl')\n",
    "    \n",
    "    model_metadata = {\n",
    "        'model_type': best_model_name,\n",
    "        'needs_scaling': True\n",
    "    }\n",
    "\n",
    "# save all label encoders\n",
    "joblib.dump(label_encoders, 'models/label_encoders.pkl')\n",
    "joblib.dump(model_metadata, 'models/model_metadata.pkl')\n",
    "\n",
    "print(f\"Model saved successfully!\")"
   ]
  },
  {
   "cell_type": "code",
   "execution_count": null,
   "id": "e3430514",
   "metadata": {},
   "outputs": [],
   "source": []
  }
 ],
 "metadata": {
  "kernelspec": {
   "display_name": "tensorflow",
   "language": "python",
   "name": "python3"
  },
  "language_info": {
   "codemirror_mode": {
    "name": "ipython",
    "version": 3
   },
   "file_extension": ".py",
   "mimetype": "text/x-python",
   "name": "python",
   "nbconvert_exporter": "python",
   "pygments_lexer": "ipython3",
   "version": "3.10.9"
  }
 },
 "nbformat": 4,
 "nbformat_minor": 5
}
